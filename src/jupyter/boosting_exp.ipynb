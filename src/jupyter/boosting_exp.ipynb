{
 "cells": [
  {
   "cell_type": "code",
   "execution_count": 180,
   "metadata": {},
   "outputs": [
    {
     "name": "stdout",
     "output_type": "stream",
     "text": [
      "The autoreload extension is already loaded. To reload it, use:\n",
      "  %reload_ext autoreload\n",
      "/home/axel/master/ais-visualization/src\n"
     ]
    }
   ],
   "source": [
    "%load_ext autoreload\n",
    "%autoreload\n",
    "%cd /home/axel/master/ais-visualization/src"
   ]
  },
  {
   "cell_type": "code",
   "execution_count": 181,
   "metadata": {},
   "outputs": [],
   "source": [
    "from main import *\n",
    "\n",
    "import plotly.express as px\n",
    "import plotly.graph_objects as go\n",
    "from plotly.subplots import make_subplots\n",
    "\n",
    "import pandas as pd\n",
    "import numpy as np\n",
    "from pathlib import Path"
   ]
  },
  {
   "cell_type": "code",
   "execution_count": 182,
   "metadata": {},
   "outputs": [],
   "source": [
    "# alt du må gjøre er å endre disse, så tror jeg det skal gå\n",
    "num_runs = 1\n",
    "num_folds = 10\n",
    "num_boost_rounds = 10\n",
    "file_pre = \"ex_boost_white/logg_dat_SemanticKaggleW90.json\""
   ]
  },
  {
   "cell_type": "code",
   "execution_count": 183,
   "metadata": {},
   "outputs": [],
   "source": [
    "def _parse_boosting_info(prop_values: dict, prop_type: str, enum_name: str):\n",
    "    cols = {}\n",
    "    for p in prop_values:\n",
    "        if type(p) == str:\n",
    "            if len(cols) == 0:\n",
    "                continue\n",
    "            else:\n",
    "                for k, v in cols.items():\n",
    "                    v.append(pd.NA)\n",
    "        else:\n",
    "            memberships: dict = p[enum_name]\n",
    "            for k, v in memberships.items():\n",
    "                cur_val = cols.get(k)\n",
    "                if cur_val is None:\n",
    "                    cols[k] = [v]\n",
    "                else:\n",
    "                    cols[k].append(v)\n",
    "\n",
    "    df_dict = {}\n",
    "    for k, v in cols.items():\n",
    "        # v = np.add.reduceat(v, np.arange(0, len(v), 5))\n",
    "        df_dict[f\"{prop_type}_{k}\"] = v\n",
    "    print(df_dict)\n",
    "    return (prop_type, df_dict)"
   ]
  },
  {
   "cell_type": "code",
   "execution_count": 184,
   "metadata": {},
   "outputs": [],
   "source": [
    "def gen_cor_w_noreg_cols(df: pd.DataFrame, key: str):\n",
    "    n_cor = df[f\"{key}_cor\"]\n",
    "    n_wrong = df[f\"{key}_wrong\"]\n",
    "    n_no_reg = df[f\"{key}_no_reg\"]\n",
    "\n",
    "    df[f\"{key}_precision\"] = n_cor/(n_cor+n_wrong)\n",
    "    df[f\"{key}_accuracy\"] = n_cor/(n_cor+n_wrong+n_no_reg)"
   ]
  },
  {
   "cell_type": "code",
   "execution_count": 185,
   "metadata": {},
   "outputs": [
    {
     "name": "stdout",
     "output_type": "stream",
     "text": [
      "0 BoostAccuracy\n",
      "1 BoostAccuracyTest\n",
      "2 FoldAccuracy\n",
      "3 Runtime\n",
      "{'BoostAccuracyTest_cor': [2198, 2160, 2145, 2179, 2213, 2231, 2232, 2218, 2270, 2309], 'BoostAccuracyTest_no_reg': [0, 0, 0, 0, 0, 0, 0, 0, 0, 0], 'BoostAccuracyTest_wrong': [1049, 1087, 1102, 1068, 1034, 1016, 1015, 1029, 977, 938]}\n",
      "{'BoostAccuracy_cor': [20160, 20488, 20680, 21144, 21647, 21932, 22319, 22511, 22933, 23057], 'BoostAccuracy_no_reg': [0, 0, 0, 0, 0, 0, 0, 0, 0, 0], 'BoostAccuracy_wrong': [9427, 9099, 8907, 8443, 7940, 7655, 7268, 7076, 6654, 6530]}\n"
     ]
    }
   ],
   "source": [
    "\n",
    "with open(f\"./../../ais/logg_dat/{file_pre}\", \"r\") as f:\n",
    "    js_obj = json.load(f)\n",
    "[(v, i[\"property_type\"]) for i in js_obj[\"meta_props\"] for k, v in enumerate(i) ]\n",
    "\n",
    "metas = js_obj[\"meta_props\"]\n",
    "\n",
    "for idx, v in enumerate(metas):\n",
    "    print(idx, v[\"property_type\"])\n",
    "\n",
    "boost_accuracy = metas[0]\n",
    "boost_accuracy_test = metas[1]\n",
    "\n",
    "(p, d) = _parse_boosting_info(boost_accuracy_test[\"prop_values\"], boost_accuracy_test[\"property_type\"], \"MappedInts\")\n",
    "(m, l) = _parse_boosting_info(boost_accuracy[\"prop_values\"], boost_accuracy[\"property_type\"], \"MappedInts\")\n",
    "df_dict = []\n",
    "l.update(d)\n",
    "ddf = pd.DataFrame(l)\n",
    "\n",
    "gen_cor_w_noreg_cols(ddf, \"BoostAccuracyTest\")\n",
    "gen_cor_w_noreg_cols(ddf, \"BoostAccuracy\")\n"
   ]
  },
  {
   "cell_type": "code",
   "execution_count": 186,
   "metadata": {},
   "outputs": [
    {
     "data": {
      "text/plain": [
       "4    0.731639\n",
       "9    0.779295\n",
       "Name: BoostAccuracy_accuracy, dtype: float64"
      ]
     },
     "execution_count": 186,
     "metadata": {},
     "output_type": "execute_result"
    }
   ],
   "source": [
    "i = 4\n",
    "step = 5\n",
    "ddf[i::step][\"BoostAccuracy_accuracy\"]"
   ]
  },
  {
   "cell_type": "code",
   "execution_count": 187,
   "metadata": {},
   "outputs": [],
   "source": [
    "def get_accs_std(ddf, num_folds: int,  num_boost_rounds: int):\n",
    "    stds_train = []\n",
    "    accs_train = []\n",
    "    stds_test = []\n",
    "    accs_test = []\n",
    "    step = num_folds\n",
    "    for i in range(0, num_boost_rounds):\n",
    "        # print(df[i - 10:i:][])\n",
    "        stds_train.append(ddf[i::step][\"BoostAccuracy_accuracy\"].std())\n",
    "        accs_train.append(ddf[i::step][\"BoostAccuracy_accuracy\"].mean())\n",
    "        m = ddf[i::step][\"BoostAccuracyTest_accuracy\"]\n",
    "        print(m)\n",
    "        stds_test.append(ddf[i::step][\"BoostAccuracyTest_accuracy\"].std())\n",
    "        accs_test.append(ddf[i::step][\"BoostAccuracyTest_accuracy\"].mean())\n",
    "    return pd.DataFrame.from_dict({\"accs_train\": accs_train, \"stds_train\": stds_train, \"accs_test\": accs_test, \"stds_test\": stds_test})"
   ]
  },
  {
   "cell_type": "code",
   "execution_count": 188,
   "metadata": {},
   "outputs": [
    {
     "name": "stdout",
     "output_type": "stream",
     "text": [
      "0    0.676933\n",
      "Name: BoostAccuracyTest_accuracy, dtype: float64\n",
      "1    0.665229\n",
      "Name: BoostAccuracyTest_accuracy, dtype: float64\n",
      "2    0.66061\n",
      "Name: BoostAccuracyTest_accuracy, dtype: float64\n",
      "3    0.671081\n",
      "Name: BoostAccuracyTest_accuracy, dtype: float64\n",
      "4    0.681552\n",
      "Name: BoostAccuracyTest_accuracy, dtype: float64\n",
      "5    0.687096\n",
      "Name: BoostAccuracyTest_accuracy, dtype: float64\n",
      "6    0.687404\n",
      "Name: BoostAccuracyTest_accuracy, dtype: float64\n",
      "7    0.683092\n",
      "Name: BoostAccuracyTest_accuracy, dtype: float64\n",
      "8    0.699107\n",
      "Name: BoostAccuracyTest_accuracy, dtype: float64\n",
      "9    0.711118\n",
      "Name: BoostAccuracyTest_accuracy, dtype: float64\n"
     ]
    },
    {
     "data": {
      "text/html": [
       "<div>\n",
       "<style scoped>\n",
       "    .dataframe tbody tr th:only-of-type {\n",
       "        vertical-align: middle;\n",
       "    }\n",
       "\n",
       "    .dataframe tbody tr th {\n",
       "        vertical-align: top;\n",
       "    }\n",
       "\n",
       "    .dataframe thead th {\n",
       "        text-align: right;\n",
       "    }\n",
       "</style>\n",
       "<table border=\"1\" class=\"dataframe\">\n",
       "  <thead>\n",
       "    <tr style=\"text-align: right;\">\n",
       "      <th></th>\n",
       "      <th>accs_train</th>\n",
       "      <th>stds_train</th>\n",
       "      <th>accs_test</th>\n",
       "      <th>stds_test</th>\n",
       "    </tr>\n",
       "  </thead>\n",
       "  <tbody>\n",
       "    <tr>\n",
       "      <th>0</th>\n",
       "      <td>0.681380</td>\n",
       "      <td>NaN</td>\n",
       "      <td>0.676933</td>\n",
       "      <td>NaN</td>\n",
       "    </tr>\n",
       "    <tr>\n",
       "      <th>1</th>\n",
       "      <td>0.692466</td>\n",
       "      <td>NaN</td>\n",
       "      <td>0.665229</td>\n",
       "      <td>NaN</td>\n",
       "    </tr>\n",
       "    <tr>\n",
       "      <th>2</th>\n",
       "      <td>0.698956</td>\n",
       "      <td>NaN</td>\n",
       "      <td>0.660610</td>\n",
       "      <td>NaN</td>\n",
       "    </tr>\n",
       "    <tr>\n",
       "      <th>3</th>\n",
       "      <td>0.714638</td>\n",
       "      <td>NaN</td>\n",
       "      <td>0.671081</td>\n",
       "      <td>NaN</td>\n",
       "    </tr>\n",
       "    <tr>\n",
       "      <th>4</th>\n",
       "      <td>0.731639</td>\n",
       "      <td>NaN</td>\n",
       "      <td>0.681552</td>\n",
       "      <td>NaN</td>\n",
       "    </tr>\n",
       "    <tr>\n",
       "      <th>5</th>\n",
       "      <td>0.741272</td>\n",
       "      <td>NaN</td>\n",
       "      <td>0.687096</td>\n",
       "      <td>NaN</td>\n",
       "    </tr>\n",
       "    <tr>\n",
       "      <th>6</th>\n",
       "      <td>0.754352</td>\n",
       "      <td>NaN</td>\n",
       "      <td>0.687404</td>\n",
       "      <td>NaN</td>\n",
       "    </tr>\n",
       "    <tr>\n",
       "      <th>7</th>\n",
       "      <td>0.760841</td>\n",
       "      <td>NaN</td>\n",
       "      <td>0.683092</td>\n",
       "      <td>NaN</td>\n",
       "    </tr>\n",
       "    <tr>\n",
       "      <th>8</th>\n",
       "      <td>0.775104</td>\n",
       "      <td>NaN</td>\n",
       "      <td>0.699107</td>\n",
       "      <td>NaN</td>\n",
       "    </tr>\n",
       "    <tr>\n",
       "      <th>9</th>\n",
       "      <td>0.779295</td>\n",
       "      <td>NaN</td>\n",
       "      <td>0.711118</td>\n",
       "      <td>NaN</td>\n",
       "    </tr>\n",
       "  </tbody>\n",
       "</table>\n",
       "</div>"
      ],
      "text/plain": [
       "   accs_train  stds_train  accs_test  stds_test\n",
       "0    0.681380         NaN   0.676933        NaN\n",
       "1    0.692466         NaN   0.665229        NaN\n",
       "2    0.698956         NaN   0.660610        NaN\n",
       "3    0.714638         NaN   0.671081        NaN\n",
       "4    0.731639         NaN   0.681552        NaN\n",
       "5    0.741272         NaN   0.687096        NaN\n",
       "6    0.754352         NaN   0.687404        NaN\n",
       "7    0.760841         NaN   0.683092        NaN\n",
       "8    0.775104         NaN   0.699107        NaN\n",
       "9    0.779295         NaN   0.711118        NaN"
      ]
     },
     "execution_count": 188,
     "metadata": {},
     "output_type": "execute_result"
    }
   ],
   "source": [
    "fig = go.Figure()\n",
    "df_t = ddf[:10:]\n",
    "markers = [\"circle\", \"square\", \"diamond\", \"cross\", \"star\", \"triangle-up\", \"triangle-down\", \"triangle-left\", \"triangle-right\"]\n",
    "\n",
    "def plot_boosting_train_test_acc(ddf: pd.DataFrame, num_folds, num_boost_rounds):\n",
    "    n = 0\n",
    "    boosts = get_accs_std(ddf, 10, 10)\n",
    "    fig.add_trace(go.Scatter(x=np.arange(0, len(ddf)), y=boosts[\"accs_test\"],\n",
    "                        mode='lines+markers',\n",
    "                        name='BoostAccuracyTest',\n",
    "                        error_y=dict(\n",
    "                                     type='data',  # value of error bar given in data coordinates\n",
    "                                     array=boosts[\"stds_test\"],\n",
    "                                     visible=True),\n",
    "                        marker=dict(\n",
    "                                    symbol=markers[n],\n",
    "                                    size=8,\n",
    "                                    #angleref=\"previous\",\n",
    "                                        )))\n",
    "    \n",
    "    n+=1\n",
    "    fig.add_trace(go.Scatter(x=np.arange(0, len(ddf)), y=boosts[\"accs_train\"],\n",
    "                        mode='lines+markers',\n",
    "                        name='BoostAccuracyTrain',\n",
    "                        error_y=dict(\n",
    "                                     type='data',  # value of error bar given in data coordinates\n",
    "                                     array=boosts[\"stds_test\"],\n",
    "                                     visible=True),\n",
    "                        marker=dict(\n",
    "                                    symbol=markers[n],\n",
    "                                    size=8,\n",
    "                                    #angleref=\"previous\",\n",
    "                                        )))\n",
    "    n += 1\n",
    "    \n",
    "\n",
    "    \n",
    "    fig.update_layout(height = 500)\n",
    "    fig.update_xaxes(range=[-0.5,9.5])\n",
    "    fig.update_layout(legend_title_text=f\" Mean accuracy <br> of {num_boost_rounds} boosting rounds\")\n",
    "    write_image(fig, f\"{file_pre}\", f\"agg_boost.png\")\n",
    "\n",
    "    fig.show()\n",
    "plot_boosting_train_test_acc(ddf, 10, 10)\n"
   ]
  }
 ],
 "metadata": {
  "kernelspec": {
   "display_name": "Python 3",
   "language": "python",
   "name": "python3"
  },
  "language_info": {
   "codemirror_mode": {
    "name": "ipython",
    "version": 3
   },
   "file_extension": ".py",
   "mimetype": "text/x-python",
   "name": "python",
   "nbconvert_exporter": "python",
   "pygments_lexer": "ipython3",
   "version": "3.10.6"
  },
  "orig_nbformat": 4
 },
 "nbformat": 4,
 "nbformat_minor": 2
}
